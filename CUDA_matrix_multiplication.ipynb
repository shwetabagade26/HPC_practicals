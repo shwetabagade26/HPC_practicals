{
  "nbformat": 4,
  "nbformat_minor": 0,
  "metadata": {
    "colab": {
      "provenance": []
    },
    "kernelspec": {
      "name": "python3",
      "display_name": "Python 3"
    },
    "language_info": {
      "name": "python"
    }
  },
  "cells": [
    {
      "cell_type": "code",
      "execution_count": 1,
      "metadata": {
        "colab": {
          "base_uri": "https://localhost:8080/"
        },
        "id": "hLhf-B_7sDRU",
        "outputId": "4be7940e-6b50-4299-968e-bda906096875"
      },
      "outputs": [
        {
          "output_type": "stream",
          "name": "stdout",
          "text": [
            "Collecting git+https://github.com/afnan47/cuda.git\n",
            "  Cloning https://github.com/afnan47/cuda.git to /tmp/pip-req-build-nr7k276f\n",
            "  Running command git clone --filter=blob:none --quiet https://github.com/afnan47/cuda.git /tmp/pip-req-build-nr7k276f\n",
            "  Resolved https://github.com/afnan47/cuda.git to commit aac710a35f52bb78ab34d2e52517237941399eff\n",
            "  Preparing metadata (setup.py) ... \u001b[?25l\u001b[?25hdone\n",
            "Building wheels for collected packages: NVCCPlugin\n",
            "  Building wheel for NVCCPlugin (setup.py) ... \u001b[?25l\u001b[?25hdone\n",
            "  Created wheel for NVCCPlugin: filename=NVCCPlugin-0.0.2-py3-none-any.whl size=4289 sha256=0efc9d4a386b68f9189f76a03363d777a025350677a54b0acbc922a592f2df93\n",
            "  Stored in directory: /tmp/pip-ephem-wheel-cache-g2lh8muk/wheels/aa/f3/44/e10c1d226ec561d971fcd4b0463f6bff08602afa928a3e7bc7\n",
            "Successfully built NVCCPlugin\n",
            "Installing collected packages: NVCCPlugin\n",
            "Successfully installed NVCCPlugin-0.0.2\n",
            "created output directory at /content/src\n",
            "Out bin /content/result.out\n"
          ]
        }
      ],
      "source": [
        "!pip install git+https://github.com/afnan47/cuda.git\n",
        "%load_ext nvcc_plugin"
      ]
    },
    {
      "cell_type": "code",
      "source": [
        "%%cu\n",
        "#include <iostream>\n",
        "using namespace std;\n",
        "// CUDA code to multiply matrices\n",
        "__global__ void multiply(int* A, int* B, int* C, int size) {\n",
        " // Uses thread idices and block indices to compute each element\n",
        "int row = blockIdx.y * blockDim.y + threadIdx.y;\n",
        "int col = blockIdx.x * blockDim.x + threadIdx.x;\n",
        "if (row < size && col < size) {\n",
        "int sum = 0;\n",
        "for (int i = 0; i < size; i++) {\n",
        " sum += A[row * size + i] * B[i * size + col];\n",
        "}\n",
        " C[row * size + col] = sum;\n",
        "}\n",
        "}\n",
        "void initialize(int* matrix, int size) {\n",
        "for (int i = 0; i < size * size; i++) {\n",
        " matrix[i] = rand() % 10;\n",
        "}\n",
        "}\n",
        "void print(int* matrix, int size) {\n",
        "for (int row = 0; row < size; row++) {\n",
        "for (int col = 0; col < size; col++) {\n",
        " cout << matrix[row * size + col] << \" \";\n",
        "}\n",
        " cout << '\\n';\n",
        "}\n",
        " cout << '\\n';\n",
        "}\n",
        "int main() {\n",
        "int* A, * B, * C;\n",
        "int N = 2;\n",
        "int blockSize = 16;\n",
        "int matrixSize = N * N;\n",
        " size_t matrixBytes = matrixSize * sizeof(int);\n",
        " A = new int[matrixSize];\n",
        " B = new int[matrixSize];\n",
        " C = new int[matrixSize];\n",
        " initialize(A, N);\n",
        " initialize(B, N);\n",
        " cout << \"Matrix A: \\n\";\n",
        "print(A, N);\n",
        " cout << \"Matrix B: \\n\";\n",
        "print(B, N);\n",
        "int* X, * Y, * Z;\n",
        " // Allocate space\n",
        " cudaMalloc(&X, matrixBytes);\n",
        " cudaMalloc(&Y, matrixBytes);\n",
        " cudaMalloc(&Z, matrixBytes);\n",
        " // Copy values from A to X\n",
        " cudaMemcpy(X, A, matrixBytes, cudaMemcpyHostToDevice);\n",
        " // Copy values from A to X and B to Y\n",
        " cudaMemcpy(Y, B, matrixBytes, cudaMemcpyHostToDevice);\n",
        " // Threads per CTA dimension\n",
        "int THREADS = 2;\n",
        " // Blocks per grid dimension (assumes THREADS divides N evenly)\n",
        " int BLOCKS = N / THREADS;\n",
        " // Use dim3 structs for block and grid dimensions\n",
        " dim3 threads(THREADS, THREADS);\n",
        " dim3 blocks(BLOCKS, BLOCKS);\n",
        " // Launch kernel\n",
        " multiply<<<blocks, threads>>>(X, Y, Z, N);\n",
        " cudaMemcpy(C, Z, matrixBytes, cudaMemcpyDeviceToHost);\n",
        " cout << \"Multiplication of matrix A and B: \\n\";\n",
        "print(C, N);\n",
        " delete[] A;\n",
        " delete[] B;\n",
        " delete[] C;\n",
        " cudaFree(X);\n",
        " cudaFree(Y);\n",
        " cudaFree(Z);\n",
        "return 0;\n",
        "}"
      ],
      "metadata": {
        "colab": {
          "base_uri": "https://localhost:8080/"
        },
        "id": "TM-LKHyssIYw",
        "outputId": "02f76ec9-01ea-4847-b90e-17f9478ff9bc"
      },
      "execution_count": 4,
      "outputs": [
        {
          "output_type": "stream",
          "name": "stdout",
          "text": [
            "Matrix A: \n",
            "3 6 \n",
            "7 5 \n",
            "\n",
            "Matrix B: \n",
            "3 5 \n",
            "6 2 \n",
            "\n",
            "Multiplication of matrix A and B: \n",
            "0 0 \n",
            "0 0 \n",
            "\n",
            "\n"
          ]
        }
      ]
    },
    {
      "cell_type": "code",
      "source": [],
      "metadata": {
        "id": "ol11v_3isUPY"
      },
      "execution_count": null,
      "outputs": []
    }
  ]
}